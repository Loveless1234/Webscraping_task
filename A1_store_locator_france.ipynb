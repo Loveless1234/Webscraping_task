{
 "cells": [
  {
   "cell_type": "code",
   "execution_count": 123,
   "id": "2403e522-2b36-4bd5-9275-703f702d6645",
   "metadata": {},
   "outputs": [],
   "source": [
    "from selenium import webdriver\n",
    "from selenium.webdriver.common.by import By\n",
    "from selenium.webdriver.common.keys import Keys\n",
    "import csv\n",
    "import pandas as pd\n",
    "# specify the URL of the page to scrape\n",
    "url = \"https://www.motorcraft.fr/store-locator/\"\n",
    "\n",
    "driver = webdriver.Chrome(\"chromedriver\")\n",
    "\n",
    "\n",
    "driver.get(url)\n",
    "#driver.maximize_window()"
   ]
  },
  {
   "cell_type": "code",
   "execution_count": 124,
   "id": "761eb626-aa78-4c50-90ce-847190f51a6b",
   "metadata": {},
   "outputs": [],
   "source": [
    "box_infos = driver.find_elements(By.XPATH, \"//div[@class='infos']\")"
   ]
  },
  {
   "cell_type": "code",
   "execution_count": 125,
   "id": "ca893c3b-963d-406e-89d8-5ec799a0f2b3",
   "metadata": {},
   "outputs": [],
   "source": [
    "#html/body/main/section/div[2]/ul/li/div/div/div[2]\n",
    "#//div[@id=\"results\"]//li[6]/preceding-sibling::li[1]\n"
   ]
  },
  {
   "cell_type": "code",
   "execution_count": 126,
   "id": "592fb7b4-db5b-4e2b-a8dc-612fbcd49759",
   "metadata": {},
   "outputs": [],
   "source": [
    "#len(box_infos)#.text.strip().split('\\n')"
   ]
  },
  {
   "cell_type": "code",
   "execution_count": 127,
   "id": "c5e2d50a-87d6-4476-8324-935be592287a",
   "metadata": {},
   "outputs": [],
   "source": [
    "#driver.find_elements(By.XPATH, \"//div[@class='infos']\")[box]#.text"
   ]
  },
  {
   "cell_type": "code",
   "execution_count": 128,
   "id": "36c38e74-43eb-4eff-ac6b-ed6be11ff4aa",
   "metadata": {},
   "outputs": [],
   "source": [
    "#box_infos[167].text#.strip().split('\\n')[4]"
   ]
  },
  {
   "cell_type": "code",
   "execution_count": 129,
   "id": "0fa52a45-777c-4283-926f-1d814e7df666",
   "metadata": {},
   "outputs": [],
   "source": [
    "#driver.find_elements(By.XPATH, \"//div[@class='infos']/div/following-sibling::p[3]\")[466].text"
   ]
  },
  {
   "cell_type": "code",
   "execution_count": 130,
   "id": "04fb6959-89ed-4099-8966-a592a7bedf1b",
   "metadata": {},
   "outputs": [],
   "source": [
    "#box_infos[398].text.split('\\n')[-2]#.split('tél:')[-1]#.strip()"
   ]
  },
  {
   "cell_type": "code",
   "execution_count": 131,
   "id": "14e1fddc-d45b-46d4-b9d2-e0b6486325ec",
   "metadata": {},
   "outputs": [],
   "source": [
    "#extract_telephone_number1(box_infos[388].text).replace('\\n', '')#)#.split('tél:')[-1].strip()"
   ]
  },
  {
   "cell_type": "code",
   "execution_count": 132,
   "id": "5c2aced2-51f3-431d-aa62-6c3c1f7bbfef",
   "metadata": {},
   "outputs": [],
   "source": [
    "#box_infos[47].text.split('\\n')[-2].split('tél:')[-1]"
   ]
  },
  {
   "cell_type": "code",
   "execution_count": 133,
   "id": "5d531fa3-a31b-4c40-8883-be27430bcac9",
   "metadata": {},
   "outputs": [],
   "source": [
    "#.split('\\n')#[-2].split('tél:')[-1].strip()box_infos[392].text.strip()"
   ]
  },
  {
   "cell_type": "code",
   "execution_count": 134,
   "id": "69100a06-7081-4b43-bf55-522be7d4a328",
   "metadata": {},
   "outputs": [],
   "source": [
    "# Define the function to extract the phone number\n",
    "def extract_phone_number(string):\n",
    "    if 'tél:' in string:\n",
    "        return string.split('tél:')[1].strip()\n",
    "    elif 'mob:' in string:\n",
    "        return string.split('mob:')[1].strip()\n",
    "    else:\n",
    "        return 'Not Available'"
   ]
  },
  {
   "cell_type": "code",
   "execution_count": 135,
   "id": "0f087f1d-004c-4bbf-bc24-341423548b49",
   "metadata": {},
   "outputs": [
    {
     "name": "stdout",
     "output_type": "stream",
     "text": [
      "Scraping complete! Results saved in store_locator_france.csv\n"
     ]
    }
   ],
   "source": [
    "# create a CSV file and write the header row\n",
    "with open('store_locator_france.csv', 'w', newline='', encoding='utf-8') as f:\n",
    "    writer = csv.writer(f)\n",
    "    writer.writerow(['ID Company', 'Country', 'Outlet Name','Street', 'Postal_Code', 'City','International_Preselect', 'Phone','Email'])\n",
    "    # loop through the rows and extract the data\n",
    "    \n",
    "    for box in range(len(box_infos)):\n",
    "        # extract the data from the columns\n",
    "        ID_Company = box + 1 \n",
    "        Country = \"France\"\n",
    "        Outlet_Name = box_infos[box].text.strip().split('\\n')[0]\n",
    "        Street = box_infos[box].text.strip().split('\\n')[2]\n",
    "        Postal_Code = ''.join(box_infos[box].text.strip().split('\\n')[3].split())[:5]\n",
    "        City = ''.join(box_infos[box].text.strip().split('\\n')[3].split())[5:]\n",
    "        International_Preselect = \"+33\"\n",
    "        Phone = extract_phone_number(box_infos[box].text.split('\\n')[4:][0]).replace(\"+33 \",\"0\")\n",
    "        Email = box_infos[box].text.strip().split('\\n')[-1]\n",
    "        # write the data to the CSV file\n",
    "        writer.writerow([ID_Company, Country, Outlet_Name, Street, Postal_Code, City, International_Preselect, Phone, Email])\n",
    "        \n",
    "print(\"Scraping complete! Results saved in store_locator_france.csv\")"
   ]
  },
  {
   "cell_type": "code",
   "execution_count": 136,
   "id": "2f0e91ce-3a2d-4394-b88a-593ea70fc68d",
   "metadata": {},
   "outputs": [],
   "source": [
    "#df = pd.read_csv(\"store_locator_france.csv\")"
   ]
  },
  {
   "cell_type": "code",
   "execution_count": 137,
   "id": "c563dd7d-1bde-46c9-b6d7-e5f5492615f9",
   "metadata": {},
   "outputs": [],
   "source": [
    "#df.head(2)"
   ]
  },
  {
   "cell_type": "code",
   "execution_count": 138,
   "id": "2a3f592f-fc2b-4bfd-9f8c-a04de07c501f",
   "metadata": {},
   "outputs": [],
   "source": [
    "#df.tail()"
   ]
  }
 ],
 "metadata": {
  "kernelspec": {
   "display_name": "Python 3 (ipykernel)",
   "language": "python",
   "name": "python3"
  },
  "language_info": {
   "codemirror_mode": {
    "name": "ipython",
    "version": 3
   },
   "file_extension": ".py",
   "mimetype": "text/x-python",
   "name": "python",
   "nbconvert_exporter": "python",
   "pygments_lexer": "ipython3",
   "version": "3.9.5"
  }
 },
 "nbformat": 4,
 "nbformat_minor": 5
}
