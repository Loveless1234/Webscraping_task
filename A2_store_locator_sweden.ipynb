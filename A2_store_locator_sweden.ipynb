{
 "cells": [
  {
   "cell_type": "code",
   "execution_count": 26,
   "id": "c77ce749-de87-4070-938b-26188a62e31f",
   "metadata": {},
   "outputs": [],
   "source": [
    "import requests\n",
    "from bs4 import BeautifulSoup\n",
    "import csv\n",
    "import pandas as pd\n",
    "\n",
    "# specify the URL of the page to scrape\n",
    "url = \"https://rydsbilglas.se/hitta-verkstad/\"\n",
    "\n",
    "# send a GET request to the URL and get the page content\n",
    "response = requests.get(url)\n",
    "\n",
    "# create a BeautifulSoup object to parse the page content\n",
    "soup = BeautifulSoup(response.content, 'html.parser')\n",
    "\n",
    "# find all the rows in the table\n",
    "boxes = boxes = soup.find_all('div',{'id':'hitta-verkstad-desktop'})"
   ]
  },
  {
   "cell_type": "code",
   "execution_count": 27,
   "id": "fc0d25e3-37a4-4421-a7c3-6e44fff81862",
   "metadata": {},
   "outputs": [
    {
     "name": "stdout",
     "output_type": "stream",
     "text": [
      "Scraping complete! Results saved in store_locator_sweden.csv\n"
     ]
    }
   ],
   "source": [
    "# create a CSV file and write the header row\n",
    "with open('store_locator_sweden.csv', 'w', newline='', encoding='utf-8') as f:\n",
    "    writer = csv.writer(f)\n",
    "    writer.writerow(['ID Company', 'Country', 'Outlet Name','Street', 'Postal_Code', 'City','International_Preselect', 'Phone','Email'])\n",
    "    # loop through the rows and extract the data\n",
    "    \n",
    "    for box in range(len(boxes)):\n",
    "        # extract the data from the columns\n",
    "        ID_Company = box + 1 \n",
    "        Country = \"Sweden\"\n",
    "        Outlet_Name = \"Ryds Bilglas\" + \" \" + boxes[box].div.h2.text.strip().split(',')[-1]\n",
    "        Street = boxes[box].select_one('h3:contains(\"esök\")').find_next('p').contents[0].strip()\n",
    "        Postal_Code = ''.join(boxes[box].select_one('h3:contains(\"esök\")').find_next('p').find('br').next_sibling.split())[:5]\n",
    "        City = boxes[box].div.h2.text.strip().split(',')[0]\n",
    "        #City_2 = ''.join(boxes[box].select_one('h3:contains(\"esök\")').find_next('p').find('br').next_sibling.split())[5:]\n",
    "        International_Preselect = \"+46\"\n",
    "        Phone = boxes[box].select_one('strong:contains(\"Telefon\")').next_sibling.strip()\n",
    "        Email = boxes[box].select_one('strong:contains(\"E-post\")').find_next('a').text.strip()\n",
    "        # write the data to the CSV file\n",
    "        writer.writerow([ID_Company, Country, Outlet_Name, Street, Postal_Code, City, International_Preselect, Phone, Email])\n",
    "        \n",
    "print(\"Scraping complete! Results saved in store_locator_sweden.csv\")\n",
    "\n",
    "#print(pd.read_csv(\"store_locator_sweden.csv\"))"
   ]
  },
  {
   "cell_type": "code",
   "execution_count": 28,
   "id": "d6dde771-b271-48ab-abb3-33a4dd457518",
   "metadata": {},
   "outputs": [],
   "source": [
    "#df = pd.read_csv(\"store_locator_sweden.csv\")"
   ]
  },
  {
   "cell_type": "code",
   "execution_count": 29,
   "id": "3342414b-756e-4e19-a99f-13d22939b602",
   "metadata": {},
   "outputs": [],
   "source": [
    "#df.head(2)"
   ]
  },
  {
   "cell_type": "code",
   "execution_count": 30,
   "id": "103decc4-d5e1-44b3-9893-3c8dfe072337",
   "metadata": {},
   "outputs": [],
   "source": [
    "#df.tail(2)"
   ]
  }
 ],
 "metadata": {
  "kernelspec": {
   "display_name": "Python 3 (ipykernel)",
   "language": "python",
   "name": "python3"
  },
  "language_info": {
   "codemirror_mode": {
    "name": "ipython",
    "version": 3
   },
   "file_extension": ".py",
   "mimetype": "text/x-python",
   "name": "python",
   "nbconvert_exporter": "python",
   "pygments_lexer": "ipython3",
   "version": "3.9.5"
  }
 },
 "nbformat": 4,
 "nbformat_minor": 5
}
