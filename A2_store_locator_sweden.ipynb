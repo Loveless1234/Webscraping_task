{
 "cells": [
  {
   "cell_type": "code",
   "execution_count": 2,
   "id": "c77ce749-de87-4070-938b-26188a62e31f",
   "metadata": {},
   "outputs": [],
   "source": [
    "import requests\n",
    "from bs4 import BeautifulSoup\n",
    "import csv\n",
    "import pandas as pd\n",
    "\n",
    "# specify the URL of the page to scrape\n",
    "url = \"https://rydsbilglas.se/hitta-verkstad/\"\n",
    "\n",
    "# send a GET request to the URL and get the page content\n",
    "response = requests.get(url)\n",
    "\n",
    "# create a BeautifulSoup object to parse the page content\n",
    "soup = BeautifulSoup(response.content, 'html.parser')\n",
    "\n",
    "# find all the rows in the table\n",
    "boxes = boxes = soup.find_all('div',{'id':'hitta-verkstad-desktop'})"
   ]
  },
  {
   "cell_type": "code",
   "execution_count": 3,
   "id": "fc0d25e3-37a4-4421-a7c3-6e44fff81862",
   "metadata": {},
   "outputs": [
    {
     "ename": "PermissionError",
     "evalue": "[Errno 13] Permission denied: 'store_locator_sweden.csv'",
     "output_type": "error",
     "traceback": [
      "\u001b[0;31m---------------------------------------------------------------------------\u001b[0m",
      "\u001b[0;31mPermissionError\u001b[0m                           Traceback (most recent call last)",
      "Cell \u001b[0;32mIn[3], line 2\u001b[0m\n\u001b[1;32m      1\u001b[0m \u001b[39m# create a CSV file and write the header row\u001b[39;00m\n\u001b[0;32m----> 2\u001b[0m \u001b[39mwith\u001b[39;00m \u001b[39mopen\u001b[39;49m(\u001b[39m'\u001b[39;49m\u001b[39mstore_locator_sweden.csv\u001b[39;49m\u001b[39m'\u001b[39;49m, \u001b[39m'\u001b[39;49m\u001b[39mw\u001b[39;49m\u001b[39m'\u001b[39;49m, newline\u001b[39m=\u001b[39;49m\u001b[39m'\u001b[39;49m\u001b[39m'\u001b[39;49m, encoding\u001b[39m=\u001b[39;49m\u001b[39m'\u001b[39;49m\u001b[39mutf-8\u001b[39;49m\u001b[39m'\u001b[39;49m) \u001b[39mas\u001b[39;00m f:\n\u001b[1;32m      3\u001b[0m     writer \u001b[39m=\u001b[39m csv\u001b[39m.\u001b[39mwriter(f)\n\u001b[1;32m      4\u001b[0m     writer\u001b[39m.\u001b[39mwriterow([\u001b[39m'\u001b[39m\u001b[39mID Company\u001b[39m\u001b[39m'\u001b[39m, \u001b[39m'\u001b[39m\u001b[39mCountry\u001b[39m\u001b[39m'\u001b[39m, \u001b[39m'\u001b[39m\u001b[39mOutlet Name\u001b[39m\u001b[39m'\u001b[39m,\u001b[39m'\u001b[39m\u001b[39mStreet\u001b[39m\u001b[39m'\u001b[39m, \u001b[39m'\u001b[39m\u001b[39mPostal_Code\u001b[39m\u001b[39m'\u001b[39m, \u001b[39m'\u001b[39m\u001b[39mCity\u001b[39m\u001b[39m'\u001b[39m,\u001b[39m'\u001b[39m\u001b[39mInternational_Preselect\u001b[39m\u001b[39m'\u001b[39m, \u001b[39m'\u001b[39m\u001b[39mPhone\u001b[39m\u001b[39m'\u001b[39m,\u001b[39m'\u001b[39m\u001b[39mEmail\u001b[39m\u001b[39m'\u001b[39m])\n",
      "File \u001b[0;32m~/.local/lib/python3.10/site-packages/IPython/core/interactiveshell.py:284\u001b[0m, in \u001b[0;36m_modified_open\u001b[0;34m(file, *args, **kwargs)\u001b[0m\n\u001b[1;32m    277\u001b[0m \u001b[39mif\u001b[39;00m file \u001b[39min\u001b[39;00m {\u001b[39m0\u001b[39m, \u001b[39m1\u001b[39m, \u001b[39m2\u001b[39m}:\n\u001b[1;32m    278\u001b[0m     \u001b[39mraise\u001b[39;00m \u001b[39mValueError\u001b[39;00m(\n\u001b[1;32m    279\u001b[0m         \u001b[39mf\u001b[39m\u001b[39m\"\u001b[39m\u001b[39mIPython won\u001b[39m\u001b[39m'\u001b[39m\u001b[39mt let you open fd=\u001b[39m\u001b[39m{\u001b[39;00mfile\u001b[39m}\u001b[39;00m\u001b[39m by default \u001b[39m\u001b[39m\"\u001b[39m\n\u001b[1;32m    280\u001b[0m         \u001b[39m\"\u001b[39m\u001b[39mas it is likely to crash IPython. If you know what you are doing, \u001b[39m\u001b[39m\"\u001b[39m\n\u001b[1;32m    281\u001b[0m         \u001b[39m\"\u001b[39m\u001b[39myou can use builtins\u001b[39m\u001b[39m'\u001b[39m\u001b[39m open.\u001b[39m\u001b[39m\"\u001b[39m\n\u001b[1;32m    282\u001b[0m     )\n\u001b[0;32m--> 284\u001b[0m \u001b[39mreturn\u001b[39;00m io_open(file, \u001b[39m*\u001b[39;49margs, \u001b[39m*\u001b[39;49m\u001b[39m*\u001b[39;49mkwargs)\n",
      "\u001b[0;31mPermissionError\u001b[0m: [Errno 13] Permission denied: 'store_locator_sweden.csv'"
     ]
    }
   ],
   "source": [
    "# create a CSV file and write the header row\n",
    "with open('store_locator_sweden.csv', 'w', newline='', encoding='utf-8') as f:\n",
    "    writer = csv.writer(f)\n",
    "    writer.writerow(['ID Company', 'Country', 'Outlet Name','Street', 'Postal_Code', 'City','International_Preselect', 'Phone','Email'])\n",
    "    # loop through the rows and extract the data\n",
    "    \n",
    "    for box in range(len(boxes)):\n",
    "        # extract the data from the columns\n",
    "        ID_Company = box + 1 \n",
    "        Country = \"Sweden\"\n",
    "        Outlet_Name = \"Ryds Bilglas\" + \" \" + boxes[box].div.h2.text.strip().split(',')[-1]\n",
    "        Street = boxes[box].select_one('h3:contains(\"esök\")').find_next('p').contents[0].strip()\n",
    "        Postal_Code = ''.join(boxes[box].select_one('h3:contains(\"esök\")').find_next('p').find('br').next_sibling.split())[:5]\n",
    "        City = boxes[box].div.h2.text.strip().split(',')[0]\n",
    "        #City_2 = ''.join(boxes[box].select_one('h3:contains(\"esök\")').find_next('p').find('br').next_sibling.split())[5:]\n",
    "        International_Preselect = \"+46\"\n",
    "        Phone = boxes[box].select_one('strong:contains(\"Telefon\")').next_sibling.strip()\n",
    "        Email = boxes[box].select_one('strong:contains(\"E-post\")').find_next('a').text.strip()\n",
    "        # write the data to the CSV file\n",
    "        writer.writerow([ID_Company, Country, Outlet_Name, Street, Postal_Code, City, International_Preselect, Phone, Email])\n",
    "        \n",
    "print(\"Scraping complete! Results saved in store_locator_sweden.csv\")\n",
    "\n",
    "#print(pd.read_csv(\"store_locator_sweden.csv\"))"
   ]
  },
  {
   "cell_type": "code",
   "execution_count": 23,
   "id": "d6dde771-b271-48ab-abb3-33a4dd457518",
   "metadata": {},
   "outputs": [],
   "source": [
    "#df = pd.read_csv(\"store_locator_sweden.csv\")"
   ]
  },
  {
   "cell_type": "code",
   "execution_count": 24,
   "id": "3342414b-756e-4e19-a99f-13d22939b602",
   "metadata": {},
   "outputs": [],
   "source": [
    "#df.head(2)"
   ]
  },
  {
   "cell_type": "code",
   "execution_count": 25,
   "id": "103decc4-d5e1-44b3-9893-3c8dfe072337",
   "metadata": {},
   "outputs": [],
   "source": [
    "#df.tail(2)"
   ]
  }
 ],
 "metadata": {
  "kernelspec": {
   "display_name": "Python 3 (ipykernel)",
   "language": "python",
   "name": "python3"
  },
  "language_info": {
   "codemirror_mode": {
    "name": "ipython",
    "version": 3
   },
   "file_extension": ".py",
   "mimetype": "text/x-python",
   "name": "python",
   "nbconvert_exporter": "python",
   "pygments_lexer": "ipython3",
   "version": "3.10.4"
  }
 },
 "nbformat": 4,
 "nbformat_minor": 5
}
